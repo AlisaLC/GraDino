{
 "cells": [
  {
   "cell_type": "code",
   "execution_count": 1,
   "metadata": {},
   "outputs": [],
   "source": [
    "import numpy as np\n",
    "import grad\n",
    "from grad import variable as vp\n",
    "from grad.variable import Variable as vn"
   ]
  },
  {
   "cell_type": "code",
   "execution_count": 5,
   "metadata": {},
   "outputs": [
    {
     "name": "stdout",
     "output_type": "stream",
     "text": [
      "-2.0 2.0\n"
     ]
    },
    {
     "data": {
      "text/plain": [
       "'Digraph.gv.pdf'"
      ]
     },
     "execution_count": 5,
     "metadata": {},
     "output_type": "execute_result"
    }
   ],
   "source": [
    "x = vn(1.0, requires_grad=True)\n",
    "y = vn(2.0, requires_grad=True)\n",
    "z = (x - y) ** 2\n",
    "z.backward()\n",
    "print(x.grad, y.grad)\n",
    "z.draw_graph().view()"
   ]
  },
  {
   "attachments": {},
   "cell_type": "markdown",
   "metadata": {},
   "source": [
    "## Linear Regression"
   ]
  },
  {
   "cell_type": "code",
   "execution_count": 4,
   "metadata": {},
   "outputs": [
    {
     "name": "stderr",
     "output_type": "stream",
     "text": [
      "100%|██████████| 300/300 [00:00<00:00, 1449.94it/s]\n"
     ]
    },
    {
     "data": {
      "image/png": "[encoded data removed]",
      "text/plain": [
       "<Figure size 640x480 with 1 Axes>"
      ]
     },
     "metadata": {},
     "output_type": "display_data"
    },
    {
     "name": "stdout",
     "output_type": "stream",
     "text": [
      "[[16.999999999999993 12.999999999999998 18.999999999999996\n",
      "  22.99999999999999]]\n"
     ]
    }
   ],
   "source": [
    "import matplotlib.pyplot as plt\n",
    "from tqdm import tqdm\n",
    "x = vn(2)\n",
    "y = vn(3)\n",
    "z = vn(4)\n",
    "a = np.array([[x, y, z]])\n",
    "W = vp.array(np.random.randn(4, 3))\n",
    "Y = vp.array(np.array([17, 13, 19, 23]), requires_grad=False)\n",
    "losses = []\n",
    "for i in tqdm(range(300)):\n",
    "    b = a @ W.T\n",
    "    loss = np.mean((Y - b) ** 2)\n",
    "    losses.append(loss)\n",
    "    loss.backward()\n",
    "    with grad.no_grad():\n",
    "        W = W - 0.01 * vp.array_grad(W)\n",
    "    if i != 299:\n",
    "        vp.array_zero_grad(W)\n",
    "loss.draw_graph().view()\n",
    "plt.plot(losses)\n",
    "plt.yscale('log')\n",
    "plt.show()\n",
    "print(a @ W.T)\n"
   ]
  },
  {
   "attachments": {},
   "cell_type": "markdown",
   "metadata": {},
   "source": [
    "## XOR Neural Net"
   ]
  },
  {
   "cell_type": "code",
   "execution_count": 4,
   "metadata": {},
   "outputs": [
    {
     "name": "stderr",
     "output_type": "stream",
     "text": [
      "100%|██████████| 1000/1000 [03:49<00:00,  4.36it/s]\n"
     ]
    }
   ],
   "source": [
    "x = vp.array(np.array([[-1, -1], [-1, 1], [1, -1], [1, 1]]), requires_grad=False)\n",
    "y = vp.array(np.array([[-1], [1], [1], [-1]]), requires_grad=False)\n",
    "W_1 = vp.array(np.random.uniform(-1./np.sqrt(2),1./np.sqrt(2),(64, 2)))\n",
    "b_1 = vp.array(np.zeros(64))\n",
    "W_2 = vp.array(np.random.uniform(-1./np.sqrt(64),1./np.sqrt(64),(16, 64)))\n",
    "b_2 = vp.array(np.zeros(16))\n",
    "W_3 = vp.array(np.random.uniform(-1./np.sqrt(16),1./np.sqrt(16),(1, 16)))\n",
    "b_3 = vp.array(np.zeros(1))\n",
    "losses = []\n",
    "lr = 0.1\n",
    "for i in tqdm(range(1000)):\n",
    "    f_1 = np.tanh(x @ W_1.T + b_1)\n",
    "    f_2 = np.tanh(f_1 @ W_2.T + b_2)\n",
    "    z_3 = f_2 @ W_3.T + b_3\n",
    "    loss = np.mean((z_3 - y) ** 2)\n",
    "    losses.append(loss)\n",
    "    loss.backward()\n",
    "    with grad.no_grad():\n",
    "        W_1 = W_1 - lr * vp.array_grad(W_1)\n",
    "        b_1 = b_1 - lr * vp.array_grad(b_1)\n",
    "        W_2 = W_2 - lr * vp.array_grad(W_2)\n",
    "        b_2 = b_2 - lr * vp.array_grad(b_2)\n",
    "        W_3 = W_3 - lr * vp.array_grad(W_3)\n",
    "        b_3 = b_3 - lr * vp.array_grad(b_3)\n",
    "    vp.array_zero_grad(W_1)\n",
    "    vp.array_zero_grad(b_1)\n",
    "    vp.array_zero_grad(W_2)\n",
    "    vp.array_zero_grad(b_2)\n",
    "    vp.array_zero_grad(W_3)\n",
    "    vp.array_zero_grad(b_3)\n",
    "    lr *= 0.99\n",
    "print(z_3)\n",
    "plt.plot(losses)\n",
    "plt.yscale('log')"
   ]
  }
 ],
 "metadata": {
  "kernelspec": {
   "display_name": "Python 3",
   "language": "python",
   "name": "python3"
  },
  "language_info": {
   "codemirror_mode": {
    "name": "ipython",
    "version": 3
   },
   "file_extension": ".py",
   "mimetype": "text/x-python",
   "name": "python",
   "nbconvert_exporter": "python",
   "pygments_lexer": "ipython3",
   "version": "3.9.13"
  },
  "orig_nbformat": 4
 },
 "nbformat": 4,
 "nbformat_minor": 2
}
